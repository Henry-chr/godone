{
 "cells": [
  {
   "cell_type": "markdown",
   "metadata": {},
   "source": [
    "定义一个可以从列表[2，6，7，4，9，5，1，0，3，8]中找到最大值，输出运算时间，并把结果写成一个文本文件存在运行脚本的同一目录下"
   ]
  },
  {
   "cell_type": "code",
   "execution_count": 9,
   "metadata": {},
   "outputs": [],
   "source": [
    "import time\n",
    "a = [2,6,7,4,9,5,1,0,3,8]"
   ]
  },
  {
   "cell_type": "code",
   "execution_count": 20,
   "metadata": {},
   "outputs": [],
   "source": [
    "def homework(number):\n",
    "    time_start = time.time()\n",
    "    list_len = len(number)\n",
    "    temp=0\n",
    "    for i in number:\n",
    "        if temp < i :\n",
    "            temp = i\n",
    "    time.sleep(1)\n",
    "    file = open('homework.txt','w')\n",
    "    file.write(str(temp))\n",
    "    file.close()\n",
    "    time_end = time.time()\n",
    "    time_exe = time_end - time_start\n",
    "    return temp,time_exe"
   ]
  },
  {
   "cell_type": "code",
   "execution_count": 21,
   "metadata": {},
   "outputs": [
    {
     "data": {
      "text/plain": [
       "(9, 1.0011909008026123)"
      ]
     },
     "execution_count": 21,
     "metadata": {},
     "output_type": "execute_result"
    }
   ],
   "source": [
    "homework(a)"
   ]
  },
  {
   "cell_type": "code",
   "execution_count": null,
   "metadata": {},
   "outputs": [],
   "source": []
  }
 ],
 "metadata": {
  "kernelspec": {
   "display_name": "Python 3",
   "language": "python",
   "name": "python3"
  },
  "language_info": {
   "codemirror_mode": {
    "name": "ipython",
    "version": 3
   },
   "file_extension": ".py",
   "mimetype": "text/x-python",
   "name": "python",
   "nbconvert_exporter": "python",
   "pygments_lexer": "ipython3",
   "version": "3.8.1"
  }
 },
 "nbformat": 4,
 "nbformat_minor": 4
}
