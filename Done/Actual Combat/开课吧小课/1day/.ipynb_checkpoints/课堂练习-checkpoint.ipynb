{
 "cells": [
  {
   "cell_type": "code",
   "execution_count": 1,
   "metadata": {},
   "outputs": [
    {
     "name": "stdout",
     "output_type": "stream",
     "text": [
      "\n",
      "==========我的名片==========\n",
      "    姓名: kaikeba \n",
      "    QQ:xxxxxxx \n",
      "    手机号:185xxxxxx \n",
      "    公司地址:北京市xxxx \n",
      "===========================\n",
      "\n"
     ]
    }
   ],
   "source": [
    "print('''\n",
    "==========我的名片==========\n",
    "    姓名: kaikeba \n",
    "    QQ:xxxxxxx \n",
    "    手机号:185xxxxxx \n",
    "    公司地址:北京市xxxx \n",
    "===========================\n",
    "''')"
   ]
  },
  {
   "cell_type": "code",
   "execution_count": 7,
   "metadata": {},
   "outputs": [
    {
     "name": "stdout",
     "output_type": "stream",
     "text": [
      "==========我的名片==========\n",
      "    姓名: kaikeba \n",
      "    QQ:xxxxxxx \n",
      "    手机号:185xxxxxx \n",
      "    公司地址:北京市xxxx \n",
      "===========================\n"
     ]
    }
   ],
   "source": [
    "print('==========我的名片==========\\n    姓名: kaikeba \\n    QQ:xxxxxxx \\n    手机号:185xxxxxx \\n    公司地址:北京市xxxx \\n===========================')"
   ]
  },
  {
   "cell_type": "code",
   "execution_count": 8,
   "metadata": {},
   "outputs": [
    {
     "name": "stdout",
     "output_type": "stream",
     "text": [
      "==========我的名片==========\n",
      "\t姓名: kaikeba \n",
      "\tQQ:xxxxxxx \n",
      "\t手机号:185xxxxxx \n",
      "\t公司地址:北京市xxxx \n",
      "===========================\n"
     ]
    }
   ],
   "source": [
    "print('==========我的名片==========\\n\\t姓名: kaikeba \\n\\tQQ:xxxxxxx \\n\\t手机号:185xxxxxx \\n\\t公司地址:北京市xxxx \\n===========================')"
   ]
  },
  {
   "cell_type": "code",
   "execution_count": 10,
   "metadata": {},
   "outputs": [
    {
     "name": "stdout",
     "output_type": "stream",
     "text": [
      "\n",
      "3.选择题：python语句 x = \"python\";y=3 print(x+y) 的输出结果是（ ）。\n",
      "A、语法错  B、2   C、python3  D、pythonpython\n",
      "\n",
      "A\n"
     ]
    }
   ],
   "source": [
    "print('''\n",
    "3.选择题：python语句 x = \"python\";y=3 print(x+y) 的输出结果是（ ）。\n",
    "A、语法错  B、2   C、python3  D、pythonpython\n",
    "''')\n",
    "print('A')"
   ]
  },
  {
   "cell_type": "code",
   "execution_count": 11,
   "metadata": {},
   "outputs": [
    {
     "name": "stdout",
     "output_type": "stream",
     "text": [
      "hello,python\n",
      "hello,python\n"
     ]
    }
   ],
   "source": [
    "print('hello,python')\n",
    "a= 'hello,python'\n",
    "print(a)"
   ]
  },
  {
   "cell_type": "code",
   "execution_count": 12,
   "metadata": {},
   "outputs": [
    {
     "name": "stdout",
     "output_type": "stream",
     "text": [
      "我的身高是：180\n"
     ]
    }
   ],
   "source": [
    "x='我的身高是：'\n",
    "y=180\n",
    "print(x+str(y))"
   ]
  },
  {
   "cell_type": "code",
   "execution_count": 8,
   "metadata": {},
   "outputs": [
    {
     "data": {
      "text/plain": [
       "'0o14'"
      ]
     },
     "execution_count": 8,
     "metadata": {},
     "output_type": "execute_result"
    }
   ],
   "source": [
    "repr('x')\n",
    "ord('x')\n",
    "hex(11)\n",
    "oct(12)"
   ]
  },
  {
   "cell_type": "markdown",
   "metadata": {},
   "source": [
    "cmp(1,3)"
   ]
  },
  {
   "cell_type": "code",
   "execution_count": 9,
   "metadata": {},
   "outputs": [
    {
     "ename": "NameError",
     "evalue": "name 'cmp' is not defined",
     "output_type": "error",
     "traceback": [
      "\u001b[1;31m---------------------------------------------------------------------------\u001b[0m",
      "\u001b[1;31mNameError\u001b[0m                                 Traceback (most recent call last)",
      "\u001b[1;32m<ipython-input-9-59ef6fe7d76c>\u001b[0m in \u001b[0;36m<module>\u001b[1;34m\u001b[0m\n\u001b[1;32m----> 1\u001b[1;33m \u001b[0mcmp\u001b[0m\u001b[1;33m(\u001b[0m\u001b[1;36m1\u001b[0m\u001b[1;33m,\u001b[0m\u001b[1;36m3\u001b[0m\u001b[1;33m)\u001b[0m\u001b[1;33m\u001b[0m\u001b[1;33m\u001b[0m\u001b[0m\n\u001b[0m",
      "\u001b[1;31mNameError\u001b[0m: name 'cmp' is not defined"
     ]
    }
   ],
   "source": [
    "cmp(1,3)"
   ]
  },
  {
   "cell_type": "code",
   "execution_count": null,
   "metadata": {},
   "outputs": [],
   "source": []
  }
 ],
 "metadata": {
  "kernelspec": {
   "display_name": "Python 3",
   "language": "python",
   "name": "python3"
  },
  "language_info": {
   "codemirror_mode": {
    "name": "ipython",
    "version": 3
   },
   "file_extension": ".py",
   "mimetype": "text/x-python",
   "name": "python",
   "nbconvert_exporter": "python",
   "pygments_lexer": "ipython3",
   "version": "3.8.1"
  }
 },
 "nbformat": 4,
 "nbformat_minor": 4
}
